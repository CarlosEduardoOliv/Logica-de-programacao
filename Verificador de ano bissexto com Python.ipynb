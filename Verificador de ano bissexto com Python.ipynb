{
  "nbformat": 4,
  "nbformat_minor": 0,
  "metadata": {
    "colab": {
      "provenance": []
    },
    "kernelspec": {
      "name": "python3",
      "display_name": "Python 3"
    },
    "language_info": {
      "name": "python"
    }
  },
  "cells": [
    {
      "cell_type": "markdown",
      "source": [
        "# **Programa, na linguagem de programação Python, que verifica se o ano digitado é bissexto, ou não. 📅**"
      ],
      "metadata": {
        "id": "FiKLcFBXGDGa"
      }
    },
    {
      "cell_type": "code",
      "source": [
        "# Programa em Python para identificar se o ano é bissexto ou não\n",
        "\n",
        "# Entrada (int) do usuário\n",
        "ano = int(input(\"Entre com um ano desejado: \"))\n",
        "\n",
        "if (ano % 400 == 0) and (ano % 100 == 0):\n",
        "  print(ano, \"é um ano bissexto\")\n",
        "\n",
        "elif (ano % 4 == 0) and (ano % 100 != 0):\n",
        "  print(ano, \"é um ano bissexto\")\n",
        "\n",
        "# Se não for divisível por 400, ou 4, não é bissexto.\n",
        "else:\n",
        "  print(ano, \"NÃO é um ano bissexto!\")"
      ],
      "metadata": {
        "colab": {
          "base_uri": "https://localhost:8080/"
        },
        "id": "z7mumStiJVi2",
        "outputId": "eaef23d1-3ddb-4ed9-ad95-3177289c62fa"
      },
      "execution_count": null,
      "outputs": [
        {
          "output_type": "stream",
          "name": "stdout",
          "text": [
            "Entre com um ano desejado: 1940\n",
            "1940 é um ano bissexto\n"
          ]
        }
      ]
    }
  ]
}