{
  "nbformat": 4,
  "nbformat_minor": 0,
  "metadata": {
    "colab": {
      "provenance": []
    },
    "kernelspec": {
      "name": "python3",
      "display_name": "Python 3"
    },
    "language_info": {
      "name": "python"
    }
  },
  "cells": [
    {
      "cell_type": "code",
      "execution_count": null,
      "metadata": {
        "colab": {
          "base_uri": "https://localhost:8080/"
        },
        "id": "7mvLWCzNBm7i",
        "outputId": "275ffc0c-a836-45bb-f8c0-90280a47e0f7"
      },
      "outputs": [
        {
          "output_type": "stream",
          "name": "stdout",
          "text": [
            "Olá, mundo!\n"
          ]
        }
      ],
      "source": [
        "#Este código imprime o texto Olá, Mundo!\n",
        "\n",
        "print('Olá, mundo!');"
      ]
    },
    {
      "cell_type": "code",
      "source": [
        "#Variável saudação\n",
        "\n",
        "saudacao = \"Olá\"\n",
        "\n",
        "#Variável pessoa a ser saudada\n",
        "\n",
        "pessoa = \"mundo\"\n",
        "\n",
        "print(saudacao + \",\" + pessoa +  \"!\")"
      ],
      "metadata": {
        "colab": {
          "base_uri": "https://localhost:8080/"
        },
        "id": "LY6ezs-fB4y5",
        "outputId": "c91b0812-d514-4049-e8dd-8636aba7ba03"
      },
      "execution_count": null,
      "outputs": [
        {
          "output_type": "stream",
          "name": "stdout",
          "text": [
            "Olá,mundo!\n"
          ]
        }
      ]
    },
    {
      "cell_type": "code",
      "source": [
        "#Pedindo ao usuário que indique a saudação com o comando input()\n",
        "\n",
        "saudacao = input(\"Indique a saudação. Exemplo: Oi, E aí, Olá: \")\n",
        "\n",
        " \n",
        "\n",
        "#Pedindo ao usuário que indique a pessoa cumprimentada com input()\n",
        "\n",
        "pessoa = input(\"Indique a pessoa cumprimentada: \")\n",
        "\n",
        " \n",
        "\n",
        "#imprimindo o que o usuário escreveu\n",
        "\n",
        "print(saudacao + \", \" + pessoa +  \"!\")"
      ],
      "metadata": {
        "colab": {
          "base_uri": "https://localhost:8080/"
        },
        "id": "oNzEgbZTCFav",
        "outputId": "614529cd-6e82-41b6-ad52-ace3b231525d"
      },
      "execution_count": null,
      "outputs": [
        {
          "output_type": "stream",
          "name": "stdout",
          "text": [
            "Indique a saudação. Exemplo: Oi, E aí, Olá: Bello\n",
            "Indique a pessoa cumprimentada: Caduado\n",
            "Bello, Caduado!\n"
          ]
        }
      ]
    },
    {
      "cell_type": "code",
      "source": [
        "#Pedindo ao usuário que indique a saudação com o comando input()\n",
        "\n",
        "saudacao = input(\"Indique a saudação. Exemplo: Oi, E aí, Olá: \")\n",
        "\n",
        " \n",
        "\n",
        "#Pedindo ao usuário que indique a pessoa cumprimentada com input()\n",
        "\n",
        "pessoa = input(\"Indique a pessoa cumprimentada: \")\n",
        "\n",
        " \n",
        "\n",
        "#imprimindo o que o usuário escreveu com novas condições\n",
        "\n",
        "if (pessoa == \"Caduado\"):\n",
        "\n",
        "  print(saudacao + \", \" + pessoa +  \"!\" + ' Você é um profissional de Analytics e Data Science. ')\n",
        "\n",
        "else:\n",
        "\n",
        "  print(saudacao + ', ' + pessoa + ' ! Você é estudante de Analytics para Estratégia de Negócios! ')"
      ],
      "metadata": {
        "colab": {
          "base_uri": "https://localhost:8080/"
        },
        "id": "O3amtLLDCYn5",
        "outputId": "cde4f399-c1bc-458e-e503-ddabef98c17e"
      },
      "execution_count": null,
      "outputs": [
        {
          "output_type": "stream",
          "name": "stdout",
          "text": [
            "Indique a saudação. Exemplo: Oi, E aí, Olá: SUP\n",
            "Indique a pessoa cumprimentada: Ay\n",
            "SUP, Ay ! Você é estudante de Analytics para Estratégia de Negócios! \n"
          ]
        }
      ]
    },
    {
      "cell_type": "code",
      "source": [
        "#Pedindo ao usuário que indique a saudação com o comando input()\n",
        "\n",
        "saudacao = input(\"Indique a saudação. Exemplo: Oi, E aí, Olá: \")\n",
        "\n",
        " \n",
        "\n",
        "#Pedindo ao usuário que indique a pessoa cumprimentada com input()\n",
        "\n",
        "pessoa = input(\"Indique a pessoa cumprimentada: \")\n",
        "\n",
        " \n",
        "\n",
        "#imprimindo o que o usuário escreveu com novas condições\n",
        "\n",
        "if (pessoa == \"Caduado\"):\n",
        "  print(saudacao + \", \" + pessoa +  \"!\" + ' Você é um profissional de Analytics e Data Science. ')\n",
        "\n",
        "else:\n",
        "  print(saudacao + ', ' + pessoa + ' ! Você é estudante de Analytics para Estratégia de Negócios! ')\n",
        "\n",
        "# with open(‘nomes_saudados.txt’, ‘a’) as f:\n",
        "#   f.write(”\\n” + pessoa)\n",
        "# f.close()"
      ],
      "metadata": {
        "colab": {
          "base_uri": "https://localhost:8080/"
        },
        "id": "qvGGSJOaEItS",
        "outputId": "3c204d8b-b3ca-443b-aaec-55869df6f36c"
      },
      "execution_count": null,
      "outputs": [
        {
          "output_type": "stream",
          "name": "stdout",
          "text": [
            "Indique a saudação. Exemplo: Oi, E aí, Olá: SUP\n",
            "Indique a pessoa cumprimentada: Fred\n",
            "SUP, Fred ! Você é estudante de Analytics para Estratégia de Negócios! \n"
          ]
        }
      ]
    }
  ]
}